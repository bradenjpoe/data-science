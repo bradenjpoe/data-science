{
 "cells": [
  {
   "cell_type": "code",
   "execution_count": 3,
   "metadata": {
    "_cell_guid": "b1076dfc-b9ad-4769-8c92-a6c4dae69d19",
    "_uuid": "8f2839f25d086af736a60e9eeb907d3b93b6e0e5"
   },
   "outputs": [],
   "source": [
    "# This Python 3 environment comes with many helpful analytics libraries installed\n",
    "# It is defined by the kaggle/python docker image: https://github.com/kaggle/docker-python\n",
    "# For example, here's several helpful packages to load in \n",
    "\n",
    "import numpy as np # linear algebra\n",
    "import pandas as pd # data processing, CSV file I/O (e.g. pd.read_csv)\n",
    "\n",
    "# Input data files are available in the \"../input/\" directory.\n",
    "# For example, running this (by clicking run or pressing Shift+Enter) will list all files under the input directory\n",
    "\n",
    "import os\n",
    "for dirname, _, filenames in os.walk('/kaggle/input'):\n",
    "    for filename in filenames:\n",
    "        print(os.path.join(dirname, filename))\n",
    "\n",
    "# Any results you write to the current directory are saved as output."
   ]
  },
  {
   "cell_type": "code",
   "execution_count": 4,
   "metadata": {
    "_cell_guid": "79c7e3d0-c299-4dcb-8224-4455121ee9b0",
    "_uuid": "d629ff2d2480ee46fbb7e2d37f6b5fab8052498a"
   },
   "outputs": [
    {
     "ename": "FileNotFoundError",
     "evalue": "[Errno 2] File b'../input/us-accidents/US_Accidents_May19.csv' does not exist: b'../input/us-accidents/US_Accidents_May19.csv'",
     "output_type": "error",
     "traceback": [
      "\u001b[1;31m---------------------------------------------------------------------------\u001b[0m",
      "\u001b[1;31mFileNotFoundError\u001b[0m                         Traceback (most recent call last)",
      "\u001b[1;32m<ipython-input-4-e6220fc4c716>\u001b[0m in \u001b[0;36m<module>\u001b[1;34m\u001b[0m\n\u001b[0;32m      1\u001b[0m \u001b[1;31m# Loading dataset into kaggle\u001b[0m\u001b[1;33m\u001b[0m\u001b[1;33m\u001b[0m\u001b[1;33m\u001b[0m\u001b[0m\n\u001b[1;32m----> 2\u001b[1;33m \u001b[0mdf\u001b[0m \u001b[1;33m=\u001b[0m \u001b[0mpd\u001b[0m\u001b[1;33m.\u001b[0m\u001b[0mread_csv\u001b[0m\u001b[1;33m(\u001b[0m\u001b[1;34m'../input/us-accidents/US_Accidents_May19.csv'\u001b[0m\u001b[1;33m)\u001b[0m\u001b[1;33m\u001b[0m\u001b[1;33m\u001b[0m\u001b[0m\n\u001b[0m\u001b[0;32m      3\u001b[0m \u001b[0mdf\u001b[0m\u001b[1;33m.\u001b[0m\u001b[0mhead\u001b[0m\u001b[1;33m(\u001b[0m\u001b[1;33m)\u001b[0m\u001b[1;33m\u001b[0m\u001b[1;33m\u001b[0m\u001b[0m\n",
      "\u001b[1;32m~\\Anaconda3\\lib\\site-packages\\pandas\\io\\parsers.py\u001b[0m in \u001b[0;36mparser_f\u001b[1;34m(filepath_or_buffer, sep, delimiter, header, names, index_col, usecols, squeeze, prefix, mangle_dupe_cols, dtype, engine, converters, true_values, false_values, skipinitialspace, skiprows, skipfooter, nrows, na_values, keep_default_na, na_filter, verbose, skip_blank_lines, parse_dates, infer_datetime_format, keep_date_col, date_parser, dayfirst, cache_dates, iterator, chunksize, compression, thousands, decimal, lineterminator, quotechar, quoting, doublequote, escapechar, comment, encoding, dialect, error_bad_lines, warn_bad_lines, delim_whitespace, low_memory, memory_map, float_precision)\u001b[0m\n\u001b[0;32m    683\u001b[0m         )\n\u001b[0;32m    684\u001b[0m \u001b[1;33m\u001b[0m\u001b[0m\n\u001b[1;32m--> 685\u001b[1;33m         \u001b[1;32mreturn\u001b[0m \u001b[0m_read\u001b[0m\u001b[1;33m(\u001b[0m\u001b[0mfilepath_or_buffer\u001b[0m\u001b[1;33m,\u001b[0m \u001b[0mkwds\u001b[0m\u001b[1;33m)\u001b[0m\u001b[1;33m\u001b[0m\u001b[1;33m\u001b[0m\u001b[0m\n\u001b[0m\u001b[0;32m    686\u001b[0m \u001b[1;33m\u001b[0m\u001b[0m\n\u001b[0;32m    687\u001b[0m     \u001b[0mparser_f\u001b[0m\u001b[1;33m.\u001b[0m\u001b[0m__name__\u001b[0m \u001b[1;33m=\u001b[0m \u001b[0mname\u001b[0m\u001b[1;33m\u001b[0m\u001b[1;33m\u001b[0m\u001b[0m\n",
      "\u001b[1;32m~\\Anaconda3\\lib\\site-packages\\pandas\\io\\parsers.py\u001b[0m in \u001b[0;36m_read\u001b[1;34m(filepath_or_buffer, kwds)\u001b[0m\n\u001b[0;32m    455\u001b[0m \u001b[1;33m\u001b[0m\u001b[0m\n\u001b[0;32m    456\u001b[0m     \u001b[1;31m# Create the parser.\u001b[0m\u001b[1;33m\u001b[0m\u001b[1;33m\u001b[0m\u001b[1;33m\u001b[0m\u001b[0m\n\u001b[1;32m--> 457\u001b[1;33m     \u001b[0mparser\u001b[0m \u001b[1;33m=\u001b[0m \u001b[0mTextFileReader\u001b[0m\u001b[1;33m(\u001b[0m\u001b[0mfp_or_buf\u001b[0m\u001b[1;33m,\u001b[0m \u001b[1;33m**\u001b[0m\u001b[0mkwds\u001b[0m\u001b[1;33m)\u001b[0m\u001b[1;33m\u001b[0m\u001b[1;33m\u001b[0m\u001b[0m\n\u001b[0m\u001b[0;32m    458\u001b[0m \u001b[1;33m\u001b[0m\u001b[0m\n\u001b[0;32m    459\u001b[0m     \u001b[1;32mif\u001b[0m \u001b[0mchunksize\u001b[0m \u001b[1;32mor\u001b[0m \u001b[0miterator\u001b[0m\u001b[1;33m:\u001b[0m\u001b[1;33m\u001b[0m\u001b[1;33m\u001b[0m\u001b[0m\n",
      "\u001b[1;32m~\\Anaconda3\\lib\\site-packages\\pandas\\io\\parsers.py\u001b[0m in \u001b[0;36m__init__\u001b[1;34m(self, f, engine, **kwds)\u001b[0m\n\u001b[0;32m    893\u001b[0m             \u001b[0mself\u001b[0m\u001b[1;33m.\u001b[0m\u001b[0moptions\u001b[0m\u001b[1;33m[\u001b[0m\u001b[1;34m\"has_index_names\"\u001b[0m\u001b[1;33m]\u001b[0m \u001b[1;33m=\u001b[0m \u001b[0mkwds\u001b[0m\u001b[1;33m[\u001b[0m\u001b[1;34m\"has_index_names\"\u001b[0m\u001b[1;33m]\u001b[0m\u001b[1;33m\u001b[0m\u001b[1;33m\u001b[0m\u001b[0m\n\u001b[0;32m    894\u001b[0m \u001b[1;33m\u001b[0m\u001b[0m\n\u001b[1;32m--> 895\u001b[1;33m         \u001b[0mself\u001b[0m\u001b[1;33m.\u001b[0m\u001b[0m_make_engine\u001b[0m\u001b[1;33m(\u001b[0m\u001b[0mself\u001b[0m\u001b[1;33m.\u001b[0m\u001b[0mengine\u001b[0m\u001b[1;33m)\u001b[0m\u001b[1;33m\u001b[0m\u001b[1;33m\u001b[0m\u001b[0m\n\u001b[0m\u001b[0;32m    896\u001b[0m \u001b[1;33m\u001b[0m\u001b[0m\n\u001b[0;32m    897\u001b[0m     \u001b[1;32mdef\u001b[0m \u001b[0mclose\u001b[0m\u001b[1;33m(\u001b[0m\u001b[0mself\u001b[0m\u001b[1;33m)\u001b[0m\u001b[1;33m:\u001b[0m\u001b[1;33m\u001b[0m\u001b[1;33m\u001b[0m\u001b[0m\n",
      "\u001b[1;32m~\\Anaconda3\\lib\\site-packages\\pandas\\io\\parsers.py\u001b[0m in \u001b[0;36m_make_engine\u001b[1;34m(self, engine)\u001b[0m\n\u001b[0;32m   1133\u001b[0m     \u001b[1;32mdef\u001b[0m \u001b[0m_make_engine\u001b[0m\u001b[1;33m(\u001b[0m\u001b[0mself\u001b[0m\u001b[1;33m,\u001b[0m \u001b[0mengine\u001b[0m\u001b[1;33m=\u001b[0m\u001b[1;34m\"c\"\u001b[0m\u001b[1;33m)\u001b[0m\u001b[1;33m:\u001b[0m\u001b[1;33m\u001b[0m\u001b[1;33m\u001b[0m\u001b[0m\n\u001b[0;32m   1134\u001b[0m         \u001b[1;32mif\u001b[0m \u001b[0mengine\u001b[0m \u001b[1;33m==\u001b[0m \u001b[1;34m\"c\"\u001b[0m\u001b[1;33m:\u001b[0m\u001b[1;33m\u001b[0m\u001b[1;33m\u001b[0m\u001b[0m\n\u001b[1;32m-> 1135\u001b[1;33m             \u001b[0mself\u001b[0m\u001b[1;33m.\u001b[0m\u001b[0m_engine\u001b[0m \u001b[1;33m=\u001b[0m \u001b[0mCParserWrapper\u001b[0m\u001b[1;33m(\u001b[0m\u001b[0mself\u001b[0m\u001b[1;33m.\u001b[0m\u001b[0mf\u001b[0m\u001b[1;33m,\u001b[0m \u001b[1;33m**\u001b[0m\u001b[0mself\u001b[0m\u001b[1;33m.\u001b[0m\u001b[0moptions\u001b[0m\u001b[1;33m)\u001b[0m\u001b[1;33m\u001b[0m\u001b[1;33m\u001b[0m\u001b[0m\n\u001b[0m\u001b[0;32m   1136\u001b[0m         \u001b[1;32melse\u001b[0m\u001b[1;33m:\u001b[0m\u001b[1;33m\u001b[0m\u001b[1;33m\u001b[0m\u001b[0m\n\u001b[0;32m   1137\u001b[0m             \u001b[1;32mif\u001b[0m \u001b[0mengine\u001b[0m \u001b[1;33m==\u001b[0m \u001b[1;34m\"python\"\u001b[0m\u001b[1;33m:\u001b[0m\u001b[1;33m\u001b[0m\u001b[1;33m\u001b[0m\u001b[0m\n",
      "\u001b[1;32m~\\Anaconda3\\lib\\site-packages\\pandas\\io\\parsers.py\u001b[0m in \u001b[0;36m__init__\u001b[1;34m(self, src, **kwds)\u001b[0m\n\u001b[0;32m   1915\u001b[0m         \u001b[0mkwds\u001b[0m\u001b[1;33m[\u001b[0m\u001b[1;34m\"usecols\"\u001b[0m\u001b[1;33m]\u001b[0m \u001b[1;33m=\u001b[0m \u001b[0mself\u001b[0m\u001b[1;33m.\u001b[0m\u001b[0musecols\u001b[0m\u001b[1;33m\u001b[0m\u001b[1;33m\u001b[0m\u001b[0m\n\u001b[0;32m   1916\u001b[0m \u001b[1;33m\u001b[0m\u001b[0m\n\u001b[1;32m-> 1917\u001b[1;33m         \u001b[0mself\u001b[0m\u001b[1;33m.\u001b[0m\u001b[0m_reader\u001b[0m \u001b[1;33m=\u001b[0m \u001b[0mparsers\u001b[0m\u001b[1;33m.\u001b[0m\u001b[0mTextReader\u001b[0m\u001b[1;33m(\u001b[0m\u001b[0msrc\u001b[0m\u001b[1;33m,\u001b[0m \u001b[1;33m**\u001b[0m\u001b[0mkwds\u001b[0m\u001b[1;33m)\u001b[0m\u001b[1;33m\u001b[0m\u001b[1;33m\u001b[0m\u001b[0m\n\u001b[0m\u001b[0;32m   1918\u001b[0m         \u001b[0mself\u001b[0m\u001b[1;33m.\u001b[0m\u001b[0munnamed_cols\u001b[0m \u001b[1;33m=\u001b[0m \u001b[0mself\u001b[0m\u001b[1;33m.\u001b[0m\u001b[0m_reader\u001b[0m\u001b[1;33m.\u001b[0m\u001b[0munnamed_cols\u001b[0m\u001b[1;33m\u001b[0m\u001b[1;33m\u001b[0m\u001b[0m\n\u001b[0;32m   1919\u001b[0m \u001b[1;33m\u001b[0m\u001b[0m\n",
      "\u001b[1;32mpandas\\_libs\\parsers.pyx\u001b[0m in \u001b[0;36mpandas._libs.parsers.TextReader.__cinit__\u001b[1;34m()\u001b[0m\n",
      "\u001b[1;32mpandas\\_libs\\parsers.pyx\u001b[0m in \u001b[0;36mpandas._libs.parsers.TextReader._setup_parser_source\u001b[1;34m()\u001b[0m\n",
      "\u001b[1;31mFileNotFoundError\u001b[0m: [Errno 2] File b'../input/us-accidents/US_Accidents_May19.csv' does not exist: b'../input/us-accidents/US_Accidents_May19.csv'"
     ]
    }
   ],
   "source": [
    "# Loading dataset into kaggle\n",
    "df = pd.read_csv('../input/us-accidents/US_Accidents_May19.csv') \n",
    "df.head()"
   ]
  },
  {
   "cell_type": "code",
   "execution_count": null,
   "metadata": {},
   "outputs": [],
   "source": [
    "# Restrict observations to Ohio for preliminary analysis\n",
    "df = df.loc[df['State']=='OH']\n",
    "df['ID'].count()"
   ]
  },
  {
   "cell_type": "code",
   "execution_count": null,
   "metadata": {},
   "outputs": [],
   "source": [
    "# Generate a county ID \n",
    "df['County'] = df['County'].astype('category')\n",
    "df['County_ID'] = df['County'].cat.codes\n",
    "df = df.set_index('County_ID')\n",
    "df.head()"
   ]
  },
  {
   "cell_type": "code",
   "execution_count": null,
   "metadata": {},
   "outputs": [],
   "source": [
    "# Drop columns that will not be used (prior to trimming)\n",
    "df = df.drop(['Timezone','Airport_Code','Weather_Timestamp','Sunrise_Sunset','Wind_Chill(F)','Nautical_Twilight','Astronomical_Twilight','End_Lat','End_Lng'],axis=1)\n",
    "df.shape"
   ]
  },
  {
   "cell_type": "code",
   "execution_count": null,
   "metadata": {},
   "outputs": [],
   "source": [
    "# Replace true and false with numeric values\n",
    "df = df.replace(False,0)\n",
    "df = df.replace(True,1)\n",
    "\n",
    "df = df.replace('Night',0)\n",
    "df = df.replace('Day',1)\n",
    "\n",
    "df = df.replace('MapQuest',0)\n",
    "df = df.replace('Bing',1)\n",
    "df = df.replace('MapQuest-Bing',2)\n"
   ]
  },
  {
   "cell_type": "code",
   "execution_count": null,
   "metadata": {},
   "outputs": [],
   "source": [
    "# Replace missing values\n",
    "## If rain is missing it is equal to zero and same with wind speed. \n",
    "df['Precipitation(in)'].fillna(0,inplace=True)\n",
    "df['Wind_Speed(mph)'].fillna(0,inplace=True)"
   ]
  },
  {
   "cell_type": "code",
   "execution_count": null,
   "metadata": {},
   "outputs": [],
   "source": [
    "# Check data types and make edits where needed\n",
    "df.dtypes"
   ]
  },
  {
   "cell_type": "markdown",
   "metadata": {},
   "source": [
    "Data types are good to go."
   ]
  },
  {
   "cell_type": "code",
   "execution_count": null,
   "metadata": {},
   "outputs": [],
   "source": [
    "# Look at some correlations\n",
    "import matplotlib.pyplot as plt \n",
    "import seaborn as sns"
   ]
  },
  {
   "cell_type": "code",
   "execution_count": null,
   "metadata": {},
   "outputs": [],
   "source": [
    "# Check the correlations between some variables of interest\n",
    "corr_df = df[['Severity','Distance(mi)','Temperature(F)','Visibility(mi)','Wind_Speed(mph)','Precipitation(in)']].corr()\n",
    "\n",
    "fig = plt.figure(figsize=(10,10))\n",
    "sns.heatmap(corr_df, annot=True, cmap=sns.diverging_palette(220, 20, as_cmap=True))\n",
    "plt.title('Correlation Heatmap')\n",
    "plt.show()"
   ]
  },
  {
   "cell_type": "markdown",
   "metadata": {},
   "source": [
    "The graph above seems to indicate that no isolated variables are correlated with accident severity. Distance has a weak correlation, but that is not surprising since dinstance represents traffic slowdown. More severe accidents should lead to lengthier traffic. \n",
    "\n",
    "I will create a variable to distinguish between highway roads and non-highway roads. Hopefully, this correlation matrix may provide slightly more insight."
   ]
  },
  {
   "cell_type": "code",
   "execution_count": null,
   "metadata": {},
   "outputs": [],
   "source": [
    "#Create a highway indicator variable \n",
    "df['Description']=df['Description'].astype(str)\n",
    "df['Highway'] = 0\n",
    "\n",
    "df.loc[df['Description'].str.contains('I-'), 'Highway'] = 1\n",
    "df.loc[df['Description'].str.contains('OH-'), 'Highway'] = 1\n",
    "df.loc[df['Description'].str.contains('US-'), 'Highway'] = 1\n",
    "df.loc[df['Description'].str.contains('Hwy-'), 'Highway'] = 1"
   ]
  },
  {
   "cell_type": "code",
   "execution_count": null,
   "metadata": {},
   "outputs": [],
   "source": [
    "#Re-run previous correlation analysis including highway\n",
    "corr_df = df[['Severity','Distance(mi)','Temperature(F)','Visibility(mi)','Wind_Speed(mph)','Precipitation(in)','Highway']].corr()\n",
    "\n",
    "fig = plt.figure(figsize=(10,10))\n",
    "sns.heatmap(corr_df, annot=True, cmap=sns.diverging_palette(220, 20, as_cmap=True))\n",
    "plt.title('Correlation Heatmap')\n",
    "plt.show()"
   ]
  },
  {
   "cell_type": "markdown",
   "metadata": {},
   "source": [
    "As seen above, adding *highway* to the variable list generates the highest correlative variable which should help in the feature selection process."
   ]
  },
  {
   "cell_type": "markdown",
   "metadata": {},
   "source": [
    "**Feature Selection w/ Random Forest**"
   ]
  },
  {
   "cell_type": "code",
   "execution_count": null,
   "metadata": {},
   "outputs": [],
   "source": [
    "from sklearn.ensemble import RandomForestClassifier "
   ]
  },
  {
   "cell_type": "code",
   "execution_count": null,
   "metadata": {},
   "outputs": [],
   "source": [
    "# Drop variables that don't make sense in our context \n",
    "df = df.drop(['TMC','Source','ID','Start_Lat','Start_Lng','Distance(mi)',\n",
    "              'Description','Number','Street','Side','City','County','State'\n",
    "              ,'Zipcode','Country','End_Time'],axis=1)"
   ]
  },
  {
   "cell_type": "code",
   "execution_count": null,
   "metadata": {},
   "outputs": [],
   "source": [
    "# Need to parse out days, month, year, and time from Start_Time\n",
    "temp = df['Start_Time'].str.split(\" \", n = 1, expand = True)\n",
    "\n",
    "# Time in minutes\n",
    "temp2 = temp[1].str.split(\":\",n=2,expand=True)\n",
    "temp2 = temp2.drop(2,axis=1)\n",
    "temp2[0] = temp2[0].astype(int)*60\n",
    "temp2[1] = temp2[1].astype(int)\n",
    "temp2['Min'] = temp2[0]+temp2[1]\n",
    "\n",
    "# Date stripped to day month and year\n",
    "temp3 = temp[0].str.split(\"-\",n=2,expand=True)\n",
    "temp3.rename(columns={0:'Year',1:'Month',2:'Day'},inplace=True)\n",
    "\n",
    "# Drop start_time and merge new specifiec data\n",
    "df = df.drop('Start_Time',axis=1)\n",
    "df['Min'] = temp2['Min']\n",
    "df['Year'] = temp3['Year'].astype(int)\n",
    "df['Month']= temp3['Month'].astype(int)\n",
    "df['Day'] = temp3['Day'].astype(int)\n",
    "\n",
    "df.head()"
   ]
  },
  {
   "cell_type": "code",
   "execution_count": null,
   "metadata": {},
   "outputs": [],
   "source": [
    "# Drop if weather condition missing\n",
    "df['Weather_Condition'] = df['Weather_Condition'].astype(str)\n",
    "df = df.loc[df['Weather_Condition']!='nan']\n",
    "df['Weather_Condition'].unique()"
   ]
  },
  {
   "cell_type": "code",
   "execution_count": null,
   "metadata": {},
   "outputs": [],
   "source": [
    "# Create weather dummies \n",
    "df['Rain'] = 0\n",
    "df['Severe_Weather'] = 0 # Thunderstorm w/ rain, Hail, includes \"Heavy\", squalls\n",
    "df['Snow'] = 0 \n",
    "df['Clear'] = 0 \n",
    "df['Cloudy'] = 0\n",
    "\n",
    "# Do not assign fog, since it is captured by visibility\n",
    "df.loc[df['Weather_Condition'].str.contains('Light Rain|Rain|Light Freezing Drizzle|Light Drizzle|Heavy Rain|Light Freezing Rain|Drizzle|Light Rain Showers|Light Thunderstorms and Rain|Heavy Thunderstorms and Rain|Thunderstorms and Rain|Mist|Rain Showers|Heavy Drizzle|Squalls'),'Rain'] = 1\n",
    "df.loc[df['Weather_Condition'].str.contains('Light Snow|Snow|Heavy Snow|Blowing Snow|Squalls|Light Ice Pellets|Light Thunderstorms and Snow|Light Snow Showers|Small Hail|Snow Showers'),'Snow'] = 1\n",
    "df.loc[df['Weather_Condition'].str.contains('Scattered Clouds|Clear'),'Clear'] = 1\n",
    "df.loc[df['Weather_Condition'].str.contains('Overcast|Mostly Cloudy|Partly Cloudy'),'Cloudy'] = 1\n",
    "df.loc[df['Weather_Condition'].str.contains('Heavy Rain|Heavy Thunderstorms and Rain|Heavy Snow|Squalls'),'Severe_Weather'] = 1\n",
    "df = df.drop(['Weather_Condition','Wind_Direction'],axis=1)\n",
    "df.head()"
   ]
  },
  {
   "cell_type": "code",
   "execution_count": null,
   "metadata": {},
   "outputs": [],
   "source": [
    "# Train and test split \n",
    "from sklearn.model_selection import train_test_split as split\n",
    "import matplotlib.pyplot as plt\n",
    "df = df.fillna(0)\n",
    "y = df['Severity']\n",
    "X = df.loc[:,'Temperature(F)':'Cloudy']\n",
    "X_train, X_test, y_train, y_test = split(X, y, random_state=0)"
   ]
  },
  {
   "cell_type": "code",
   "execution_count": 55,
   "metadata": {},
   "outputs": [
    {
     "name": "stdout",
     "output_type": "stream",
     "text": [
      "The training accuracy score is: 0.996\n",
      "The test accuracy score is: 0.799\n"
     ]
    },
    {
     "data": {
      "text/html": [
       "<div>\n",
       "<style scoped>\n",
       "    .dataframe tbody tr th:only-of-type {\n",
       "        vertical-align: middle;\n",
       "    }\n",
       "\n",
       "    .dataframe tbody tr th {\n",
       "        vertical-align: top;\n",
       "    }\n",
       "\n",
       "    .dataframe thead th {\n",
       "        text-align: right;\n",
       "    }\n",
       "</style>\n",
       "<table border=\"1\" class=\"dataframe\">\n",
       "  <thead>\n",
       "    <tr style=\"text-align: right;\">\n",
       "      <th></th>\n",
       "      <th>Temperature(F)</th>\n",
       "      <th>Humidity(%)</th>\n",
       "      <th>Pressure(in)</th>\n",
       "      <th>Visibility(mi)</th>\n",
       "      <th>Wind_Speed(mph)</th>\n",
       "      <th>Precipitation(in)</th>\n",
       "      <th>Amenity</th>\n",
       "      <th>Bump</th>\n",
       "      <th>Crossing</th>\n",
       "      <th>Give_Way</th>\n",
       "      <th>...</th>\n",
       "      <th>Highway</th>\n",
       "      <th>Min</th>\n",
       "      <th>Year</th>\n",
       "      <th>Month</th>\n",
       "      <th>Day</th>\n",
       "      <th>Rain</th>\n",
       "      <th>Severe_Weather</th>\n",
       "      <th>Snow</th>\n",
       "      <th>Clear</th>\n",
       "      <th>Cloudy</th>\n",
       "    </tr>\n",
       "  </thead>\n",
       "  <tbody>\n",
       "    <tr>\n",
       "      <th>728927</th>\n",
       "      <td>30.2</td>\n",
       "      <td>92.0</td>\n",
       "      <td>30.12</td>\n",
       "      <td>1.0</td>\n",
       "      <td>0.0</td>\n",
       "      <td>0.0</td>\n",
       "      <td>0.0</td>\n",
       "      <td>0.0</td>\n",
       "      <td>0.0</td>\n",
       "      <td>0.0</td>\n",
       "      <td>...</td>\n",
       "      <td>1</td>\n",
       "      <td>311</td>\n",
       "      <td>2018</td>\n",
       "      <td>12</td>\n",
       "      <td>24</td>\n",
       "      <td>0</td>\n",
       "      <td>0</td>\n",
       "      <td>0</td>\n",
       "      <td>0</td>\n",
       "      <td>1</td>\n",
       "    </tr>\n",
       "    <tr>\n",
       "      <th>1490381</th>\n",
       "      <td>50.0</td>\n",
       "      <td>89.0</td>\n",
       "      <td>30.12</td>\n",
       "      <td>10.0</td>\n",
       "      <td>5.8</td>\n",
       "      <td>0.0</td>\n",
       "      <td>0.0</td>\n",
       "      <td>0.0</td>\n",
       "      <td>0.0</td>\n",
       "      <td>0.0</td>\n",
       "      <td>...</td>\n",
       "      <td>0</td>\n",
       "      <td>730</td>\n",
       "      <td>2017</td>\n",
       "      <td>11</td>\n",
       "      <td>9</td>\n",
       "      <td>0</td>\n",
       "      <td>0</td>\n",
       "      <td>0</td>\n",
       "      <td>0</td>\n",
       "      <td>1</td>\n",
       "    </tr>\n",
       "    <tr>\n",
       "      <th>1918880</th>\n",
       "      <td>47.3</td>\n",
       "      <td>71.0</td>\n",
       "      <td>30.00</td>\n",
       "      <td>10.0</td>\n",
       "      <td>8.1</td>\n",
       "      <td>0.0</td>\n",
       "      <td>0.0</td>\n",
       "      <td>0.0</td>\n",
       "      <td>0.0</td>\n",
       "      <td>0.0</td>\n",
       "      <td>...</td>\n",
       "      <td>1</td>\n",
       "      <td>143</td>\n",
       "      <td>2017</td>\n",
       "      <td>5</td>\n",
       "      <td>3</td>\n",
       "      <td>0</td>\n",
       "      <td>0</td>\n",
       "      <td>0</td>\n",
       "      <td>0</td>\n",
       "      <td>1</td>\n",
       "    </tr>\n",
       "    <tr>\n",
       "      <th>1335842</th>\n",
       "      <td>52.0</td>\n",
       "      <td>83.0</td>\n",
       "      <td>30.18</td>\n",
       "      <td>10.0</td>\n",
       "      <td>6.9</td>\n",
       "      <td>0.0</td>\n",
       "      <td>0.0</td>\n",
       "      <td>0.0</td>\n",
       "      <td>0.0</td>\n",
       "      <td>0.0</td>\n",
       "      <td>...</td>\n",
       "      <td>1</td>\n",
       "      <td>929</td>\n",
       "      <td>2018</td>\n",
       "      <td>2</td>\n",
       "      <td>20</td>\n",
       "      <td>0</td>\n",
       "      <td>0</td>\n",
       "      <td>0</td>\n",
       "      <td>0</td>\n",
       "      <td>1</td>\n",
       "    </tr>\n",
       "    <tr>\n",
       "      <th>268316</th>\n",
       "      <td>51.8</td>\n",
       "      <td>82.0</td>\n",
       "      <td>29.90</td>\n",
       "      <td>3.0</td>\n",
       "      <td>6.9</td>\n",
       "      <td>0.0</td>\n",
       "      <td>0.0</td>\n",
       "      <td>0.0</td>\n",
       "      <td>0.0</td>\n",
       "      <td>0.0</td>\n",
       "      <td>...</td>\n",
       "      <td>0</td>\n",
       "      <td>551</td>\n",
       "      <td>2017</td>\n",
       "      <td>1</td>\n",
       "      <td>5</td>\n",
       "      <td>0</td>\n",
       "      <td>0</td>\n",
       "      <td>0</td>\n",
       "      <td>0</td>\n",
       "      <td>1</td>\n",
       "    </tr>\n",
       "  </tbody>\n",
       "</table>\n",
       "<p>5 rows × 30 columns</p>\n",
       "</div>"
      ],
      "text/plain": [
       "         Temperature(F)  Humidity(%)  Pressure(in)  Visibility(mi)  \\\n",
       "728927             30.2         92.0         30.12             1.0   \n",
       "1490381            50.0         89.0         30.12            10.0   \n",
       "1918880            47.3         71.0         30.00            10.0   \n",
       "1335842            52.0         83.0         30.18            10.0   \n",
       "268316             51.8         82.0         29.90             3.0   \n",
       "\n",
       "         Wind_Speed(mph)  Precipitation(in)  Amenity  Bump  Crossing  \\\n",
       "728927               0.0                0.0      0.0   0.0       0.0   \n",
       "1490381              5.8                0.0      0.0   0.0       0.0   \n",
       "1918880              8.1                0.0      0.0   0.0       0.0   \n",
       "1335842              6.9                0.0      0.0   0.0       0.0   \n",
       "268316               6.9                0.0      0.0   0.0       0.0   \n",
       "\n",
       "         Give_Way  ...  Highway  Min  Year  Month  Day  Rain  Severe_Weather  \\\n",
       "728927        0.0  ...        1  311  2018     12   24     0               0   \n",
       "1490381       0.0  ...        0  730  2017     11    9     0               0   \n",
       "1918880       0.0  ...        1  143  2017      5    3     0               0   \n",
       "1335842       0.0  ...        1  929  2018      2   20     0               0   \n",
       "268316        0.0  ...        0  551  2017      1    5     0               0   \n",
       "\n",
       "         Snow  Clear  Cloudy  \n",
       "728927      0      0       1  \n",
       "1490381     0      0       1  \n",
       "1918880     0      0       1  \n",
       "1335842     0      0       1  \n",
       "268316      0      0       1  \n",
       "\n",
       "[5 rows x 30 columns]"
      ]
     },
     "execution_count": 55,
     "metadata": {},
     "output_type": "execute_result"
    }
   ],
   "source": [
    "# Random Forest \n",
    "forest = RandomForestClassifier(n_estimators=25,test_size=.25,random_state=0)\n",
    "forest.fit(X_train,y_train)\n",
    "print('The training accuracy score is: {:.3f}'.format(forest.score(X_train,y_train)))\n",
    "print('The test accuracy score is: {:.3f}'.format(forest.score(X_test,y_test)))\n",
    "X_train.head()"
   ]
  },
  {
   "cell_type": "markdown",
   "metadata": {},
   "source": [
    "**Extend to entire dataset**"
   ]
  },
  {
   "cell_type": "code",
   "execution_count": 46,
   "metadata": {},
   "outputs": [],
   "source": [
    "# Load dataset \n",
    "df = pd.read_csv('../input/us-accidents/US_Accidents_May19.csv') "
   ]
  },
  {
   "cell_type": "code",
   "execution_count": 47,
   "metadata": {},
   "outputs": [
    {
     "data": {
      "image/png": "[encoded data removed]",
      "text/plain": [
       "<Figure size 720x720 with 2 Axes>"
      ]
     },
     "metadata": {
      "needs_background": "light"
     },
     "output_type": "display_data"
    }
   ],
   "source": [
    "# Drop columns that will not be used (prior to trimming)\n",
    "df = df.drop(['Timezone','Airport_Code','Weather_Timestamp','Sunrise_Sunset','Wind_Chill(F)','Nautical_Twilight','Astronomical_Twilight','End_Lat','End_Lng'],axis=1)\n",
    "\n",
    "# Replace true and false with numeric values\n",
    "df = df.replace(False,0)\n",
    "df = df.replace(True,1)\n",
    "\n",
    "df = df.replace('Night',0)\n",
    "df = df.replace('Day',1)\n",
    "\n",
    "df = df.replace('MapQuest',0)\n",
    "df = df.replace('Bing',1)\n",
    "df = df.replace('MapQuest-Bing',2)\n",
    "\n",
    "# Replace missing values\n",
    "## If rain is missing it is equal to zero and same with wind speed. \n",
    "df['Precipitation(in)'].fillna(0,inplace=True)\n",
    "df['Wind_Speed(mph)'].fillna(0,inplace=True)\n",
    "\n",
    "# Look at some correlations\n",
    "import matplotlib.pyplot as plt \n",
    "import seaborn as sns\n",
    "\n",
    "# Check the correlations between some variables of interest\n",
    "corr_df = df[['Severity','Distance(mi)','Temperature(F)','Visibility(mi)','Wind_Speed(mph)','Precipitation(in)']].corr()\n",
    "\n",
    "fig = plt.figure(figsize=(10,10))\n",
    "sns.heatmap(corr_df, annot=True, cmap=sns.diverging_palette(220, 20, as_cmap=True))\n",
    "plt.title('Correlation Heatmap')\n",
    "plt.show()"
   ]
  },
  {
   "cell_type": "code",
   "execution_count": 49,
   "metadata": {},
   "outputs": [],
   "source": [
    "#Create a highway indicator variable \n",
    "df['Description']=df['Description'].astype(str)\n",
    "df['Highway'] = 0\n",
    "\n",
    "df.loc[df['Description'].str.contains('I-'), 'Highway'] = 1\n",
    "df.loc[df['Description'].str.contains('US-'), 'Highway'] = 1\n",
    "df.loc[df['Description'].str.contains('Hwy-'), 'Highway'] = 1"
   ]
  },
  {
   "cell_type": "code",
   "execution_count": 50,
   "metadata": {},
   "outputs": [
    {
     "data": {
      "image/png": "[encoded data removed]",
      "text/plain": [
       "<Figure size 720x720 with 2 Axes>"
      ]
     },
     "metadata": {
      "needs_background": "light"
     },
     "output_type": "display_data"
    }
   ],
   "source": [
    "#Re-run previous correlation analysis including highway\n",
    "corr_df = df[['Severity','Distance(mi)','Temperature(F)','Visibility(mi)','Wind_Speed(mph)','Precipitation(in)','Highway']].corr()\n",
    "\n",
    "fig = plt.figure(figsize=(10,10))\n",
    "sns.heatmap(corr_df, annot=True, cmap=sns.diverging_palette(220, 20, as_cmap=True))\n",
    "plt.title('Correlation Heatmap')\n",
    "plt.show()"
   ]
  },
  {
   "cell_type": "code",
   "execution_count": 51,
   "metadata": {},
   "outputs": [
    {
     "data": {
      "text/plain": [
       "array(['Light Rain', 'Overcast', 'Mostly Cloudy', 'Rain', 'Light Snow',\n",
       "       'Haze', 'Scattered Clouds', 'Partly Cloudy', 'Clear', 'Snow',\n",
       "       'Light Freezing Drizzle', 'Light Drizzle', 'Fog', 'Shallow Fog',\n",
       "       'Heavy Rain', 'Light Freezing Rain', 'Drizzle',\n",
       "       'Light Rain Showers', 'Mist', 'Smoke', 'Patches of Fog',\n",
       "       'Light Freezing Fog', 'Light Haze', 'Light Thunderstorms and Rain',\n",
       "       'Thunderstorms and Rain', 'Volcanic Ash', 'Blowing Sand',\n",
       "       'Widespread Dust', 'Rain Showers', 'Hail', 'Heavy Drizzle',\n",
       "       'Thunderstorm', 'Heavy Thunderstorms and Rain', 'Funnel Cloud',\n",
       "       'Blowing Snow', 'Light Thunderstorms and Snow', 'Heavy Snow',\n",
       "       'Low Drifting Snow', 'Light Ice Pellets', 'Ice Pellets', 'Squalls',\n",
       "       'Light Fog', 'Sand', 'Snow Grains', 'Snow Showers',\n",
       "       'Heavy Thunderstorms and Snow', 'Heavy Ice Pellets',\n",
       "       'Heavy Freezing Rain', 'Small Hail', 'Heavy Rain Showers',\n",
       "       'Light Snow Showers', 'Heavy Blowing Snow', 'Light Hail',\n",
       "       'Heavy Smoke', 'Heavy Thunderstorms with Small Hail',\n",
       "       'Light Thunderstorm', 'Heavy Freezing Drizzle',\n",
       "       'Light Blowing Snow', 'Thunderstorms and Snow',\n",
       "       'Light Snow Grains', 'Dust Whirls'], dtype=object)"
      ]
     },
     "execution_count": 51,
     "metadata": {},
     "output_type": "execute_result"
    }
   ],
   "source": [
    "from sklearn.ensemble import RandomForestClassifier \n",
    "\n",
    "# Drop variables that don't make sense in our context \n",
    "df = df.drop(['TMC','Source','ID','Start_Lat','Start_Lng','Distance(mi)',\n",
    "              'Description','Number','Street','Side','City','County','State'\n",
    "              ,'Zipcode','Country','End_Time'],axis=1)\n",
    "\n",
    "# Need to parse out days, month, year, and time from Start_Time\n",
    "temp = df['Start_Time'].str.split(\" \", n = 1, expand = True)\n",
    "\n",
    "# Time in minutes\n",
    "temp2 = temp[1].str.split(\":\",n=2,expand=True)\n",
    "temp2 = temp2.drop(2,axis=1)\n",
    "temp2[0] = temp2[0].astype(int)*60\n",
    "temp2[1] = temp2[1].astype(int)\n",
    "temp2['Min'] = temp2[0]+temp2[1]\n",
    "\n",
    "# Date stripped to day month and year\n",
    "temp3 = temp[0].str.split(\"-\",n=2,expand=True)\n",
    "temp3.rename(columns={0:'Year',1:'Month',2:'Day'},inplace=True)\n",
    "\n",
    "# Drop start_time and merge new specifiec data\n",
    "df = df.drop('Start_Time',axis=1)\n",
    "df['Min'] = temp2['Min']\n",
    "df['Year'] = temp3['Year'].astype(int)\n",
    "df['Month']= temp3['Month'].astype(int)\n",
    "df['Day'] = temp3['Day'].astype(int)\n",
    "\n",
    "# Drop if weather condition missing\n",
    "df['Weather_Condition'] = df['Weather_Condition'].astype(str)\n",
    "df = df.loc[df['Weather_Condition']!='nan']\n",
    "df['Weather_Condition'].unique()\n"
   ]
  },
  {
   "cell_type": "code",
   "execution_count": 52,
   "metadata": {},
   "outputs": [],
   "source": [
    "# Create weather dummies \n",
    "df['Rain'] = 0\n",
    "df['Severe_Weather'] = 0 # Thunderstorm w/ rain, Hail, includes \"Heavy\", squalls\n",
    "df['Snow'] = 0 \n",
    "df['Clear'] = 0 \n",
    "df['Cloudy'] = 0\n",
    "\n",
    "# Do not assign fog, since it is captured by visibility\n",
    "df.loc[df['Weather_Condition'].str.contains('Light Rain|Rain|Light Freezing Drizzle|Light Drizzle|Heavy Rain|Light Freezing Rain|Drizzle|Light Rain Showers|Light Thunderstorms and Rain|Heavy Thunderstorms and Rain|Thunderstorms and Rain|Mist|Rain Showers|Heavy Drizzle|Squalls|Heavy Freezing Drizzle'),'Rain'] = 1\n",
    "df.loc[df['Weather_Condition'].str.contains('Light Snow|Snow|Heavy Snow|Blowing Snow|Squalls|Light Ice Pellets|Light Thunderstorms and Snow|Light Snow Showers|Small Hail|Snow Showers|Hail|Ice Pellets'),'Snow'] = 1\n",
    "df.loc[df['Weather_Condition'].str.contains('Scattered Clouds|Clear'),'Clear'] = 1\n",
    "df.loc[df['Weather_Condition'].str.contains('Overcast|Mostly Cloudy|Partly Cloudy'),'Cloudy'] = 1\n",
    "df.loc[df['Weather_Condition'].str.contains('Heavy Rain|Heavy Thunderstorms and Rain|Heavy Snow|Squalls'),'Severe_Weather'] = 1\n",
    "df = df.drop(['Weather_Condition','Wind_Direction'],axis=1)"
   ]
  },
  {
   "cell_type": "code",
   "execution_count": 53,
   "metadata": {},
   "outputs": [],
   "source": [
    "# Train and test split \n",
    "from sklearn.model_selection import train_test_split as split\n",
    "import matplotlib.pyplot as plt\n",
    "df = df.fillna(0)\n",
    "y = df['Severity']\n",
    "X = df.loc[:,'Temperature(F)':'Cloudy']\n",
    "X_train, X_test, y_train, y_test = split(X, y, random_state=0)"
   ]
  },
  {
   "cell_type": "code",
   "execution_count": 54,
   "metadata": {},
   "outputs": [
    {
     "name": "stderr",
     "output_type": "stream",
     "text": [
      "/opt/conda/lib/python3.6/site-packages/sklearn/ensemble/forest.py:245: FutureWarning: The default value of n_estimators will change from 10 in version 0.20 to 100 in 0.22.\n",
      "  \"10 in version 0.20 to 100 in 0.22.\", FutureWarning)\n"
     ]
    },
    {
     "name": "stdout",
     "output_type": "stream",
     "text": [
      "The training accuracy score is: 0.985\n",
      "The test accuracy score is: 0.785\n"
     ]
    }
   ],
   "source": [
    "# Random Forest \n",
    "forest = RandomForestClassifier(random_state=0)\n",
    "forest.fit(X_train,y_train)\n",
    "print('The training accuracy score is: {:.3f}'.format(forest.score(X_train,y_train)))\n",
    "print('The test accuracy score is: {:.3f}'.format(forest.score(X_test,y_test)))"
   ]
  }
 ],
 "metadata": {
  "kernelspec": {
   "display_name": "Python 3",
   "language": "python",
   "name": "python3"
  },
  "language_info": {
   "codemirror_mode": {
    "name": "ipython",
    "version": 3
   },
   "file_extension": ".py",
   "mimetype": "text/x-python",
   "name": "python",
   "nbconvert_exporter": "python",
   "pygments_lexer": "ipython3",
   "version": "3.7.4"
  }
 },
 "nbformat": 4,
 "nbformat_minor": 1
}
